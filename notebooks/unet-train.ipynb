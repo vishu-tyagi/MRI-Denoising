{
 "cells": [
  {
   "cell_type": "code",
   "execution_count": 1,
   "metadata": {},
   "outputs": [],
   "source": [
    "%reload_ext autoreload\n",
    "%autoreload 2"
   ]
  },
  {
   "cell_type": "code",
   "execution_count": 23,
   "metadata": {},
   "outputs": [],
   "source": [
    "import os\n",
    "import random\n",
    "import logging\n",
    "import multiprocessing\n",
    "from pathlib import Path\n",
    "\n",
    "import numpy as np\n",
    "import matplotlib.pyplot as plt\n",
    "import seaborn as sns\n",
    "import torch\n",
    "import torch.nn as nn\n",
    "from torch.utils.data import (Dataset, DataLoader)\n",
    "\n",
    "from ctorch.config import ComplexTorchConfig\n",
    "from ctorch.data_access import DataClass\n",
    "from ctorch.model import UNet\n",
    "from ctorch.evaluation import CustomEvaluation\n",
    "from ctorch.utils import timing\n",
    "from ctorch.utils.constants import (\n",
    "    PROCESSED_DIR,\n",
    "    TRAIN,\n",
    "    VAL,\n",
    "    TEST,\n",
    "    INPUT,\n",
    "    TARGET,\n",
    "    HEIGHT,\n",
    "    WIDTH,\n",
    "    IN_CHANNELS,\n",
    "    OUT_CHANNELS,\n",
    "    HIDDEN_DIMENSIONS,\n",
    "    PARAMETERS,\n",
    "    CHECKPOINTS_DIR,\n",
    "    ARTEFACTS,\n",
    "    EPOCH,\n",
    "    TRAIN_LOSS,\n",
    "    VALID_LOSS,\n",
    "    TRAIN_PSNR,\n",
    "    TRAIN_PCC,\n",
    "    TRAIN_SSIM,\n",
    "    TRAIN_SCC,\n",
    "    VALID_PSNR,\n",
    "    VALID_PCC,\n",
    "    VALID_SSIM,\n",
    "    VALID_SCC,\n",
    "    BEST_MODEL\n",
    ")\n",
    "\n",
    "PARENT_PATH = Path(os.getcwd()).parent.absolute()\n",
    "device = \"cuda\" if torch.cuda.is_available() else \"cpu\"\n",
    "\n",
    "FORMAT = \"%(asctime)s - %(name)s - %(levelname)s - %(message)s\"\n",
    "logging.basicConfig(format=FORMAT, level=logging.INFO)\n",
    "logger = logging.getLogger(__name__)\n",
    "\n",
    "# Seed everything\n",
    "seed = 128\n",
    "random.seed(seed)\n",
    "np.random.seed(seed)\n",
    "torch.manual_seed(seed)\n",
    "torch.cuda.manual_seed(seed)"
   ]
  },
  {
   "cell_type": "markdown",
   "metadata": {},
   "source": [
    "Initialize data class for accessing data"
   ]
  },
  {
   "cell_type": "code",
   "execution_count": 3,
   "metadata": {},
   "outputs": [],
   "source": [
    "config = ComplexTorchConfig()\n",
    "config.CURRENT_PATH = PARENT_PATH\n",
    "\n",
    "data = DataClass(config)"
   ]
  },
  {
   "cell_type": "markdown",
   "metadata": {},
   "source": [
    "Initialize custom evaluation class for computing evaluation metrics"
   ]
  },
  {
   "cell_type": "code",
   "execution_count": 4,
   "metadata": {},
   "outputs": [],
   "source": [
    "eval = CustomEvaluation()"
   ]
  },
  {
   "cell_type": "markdown",
   "metadata": {},
   "source": [
    "#### Define torch model and custom dataset"
   ]
  },
  {
   "cell_type": "markdown",
   "metadata": {},
   "source": [
    "Define Complex-UNet model"
   ]
  },
  {
   "cell_type": "code",
   "execution_count": 5,
   "metadata": {},
   "outputs": [],
   "source": [
    "class Model(nn.Module):\n",
    "    def __init__(self, config: ComplexTorchConfig):\n",
    "        super().__init__()\n",
    "        self.config = config\n",
    "        self.params = self.config.MODEL_PARAMETERS\n",
    "        H_difference = self.config.PREPROCESSING_NEW_HEIGHT - HEIGHT\n",
    "        W_difference = self.config.PREPROCESSING_NEW_WIDTH - WIDTH\n",
    "        self.pad = (\n",
    "            round(W_difference / 2),\n",
    "            W_difference - round(W_difference / 2),\n",
    "            round(H_difference / 2),\n",
    "            H_difference - round(H_difference / 2)\n",
    "        )\n",
    "        self.unet = UNet(\n",
    "            in_channels=self.params[IN_CHANNELS],\n",
    "            out_channels=self.params[OUT_CHANNELS],\n",
    "            hidden_dims=self.params[HIDDEN_DIMENSIONS],\n",
    "            pad=self.pad,\n",
    "            **self.params[PARAMETERS]\n",
    "        )\n",
    "\n",
    "    def forward(self, x: torch.Tensor):\n",
    "        return self.unet(x)"
   ]
  },
  {
   "cell_type": "markdown",
   "metadata": {},
   "source": [
    "Define custom dataset for training model"
   ]
  },
  {
   "cell_type": "code",
   "execution_count": 6,
   "metadata": {},
   "outputs": [],
   "source": [
    "class KSpaceDataset(Dataset):\n",
    "    def __init__(self, input_path: Path, target_path: Path):\n",
    "        super().__init__()\n",
    "        self.input_path = input_path\n",
    "        self.target_path = target_path\n",
    "        self.files = sorted(os.listdir(self.input_path))\n",
    "\n",
    "    def __len__(self):\n",
    "        return len(self.files)\n",
    "\n",
    "    def __getitem__(self, idx):\n",
    "        file = self.files[idx]\n",
    "        X = np.load(os.path.join(self.input_path, file))\n",
    "        Y = np.load(os.path.join(self.target_path, file))\n",
    "        X = torch.from_numpy(X)\n",
    "        Y = torch.from_numpy(Y)\n",
    "        return X, Y"
   ]
  },
  {
   "cell_type": "markdown",
   "metadata": {},
   "source": [
    "#### Utility functions"
   ]
  },
  {
   "cell_type": "markdown",
   "metadata": {},
   "source": [
    "Define utility function to create data loaders"
   ]
  },
  {
   "cell_type": "code",
   "execution_count": 7,
   "metadata": {},
   "outputs": [],
   "source": [
    "def make_data_loader(\n",
    "    input_path: Path,\n",
    "    target_path: Path,\n",
    "    batch_size: int,\n",
    "    shuffle: bool = True,\n",
    "    num_workers: int = 0\n",
    "    ) -> DataLoader:\n",
    "    data = KSpaceDataset(input_path=input_path, target_path=target_path)\n",
    "    data_loader = DataLoader(\n",
    "        dataset=data,\n",
    "        batch_size = batch_size,\n",
    "        shuffle = shuffle,\n",
    "        num_workers=num_workers\n",
    "    )\n",
    "    return data_loader"
   ]
  },
  {
   "cell_type": "markdown",
   "metadata": {},
   "source": [
    "Define utility function to train model and save artefacts"
   ]
  },
  {
   "cell_type": "code",
   "execution_count": 8,
   "metadata": {},
   "outputs": [],
   "source": [
    "@timing\n",
    "def train(\n",
    "    model: Model,\n",
    "    train_loader: DataLoader,\n",
    "    valid_loader: DataLoader,\n",
    "    epochs: int,\n",
    "    criterion,\n",
    "    optimizer,\n",
    "    scheduler,\n",
    "    checkpoint_path: Path,\n",
    "    append_artefacts_path: Path = None\n",
    "):\n",
    "    lo = 0\n",
    "    hi = epochs\n",
    "    if append_artefacts_path is not None:\n",
    "        if os.path.isfile(append_artefacts_path):\n",
    "            artefacts = np.load(append_artefacts_path)\n",
    "            lo = artefacts.shape[0]\n",
    "            hi = lo + epochs\n",
    "            logger.info(f\"Resuming training for {epochs} epochs\")\n",
    "        else:\n",
    "            raise FileNotFoundError(\"Supplied artefacts don't exist\")\n",
    "    else:\n",
    "        logger.info(f\"Training for {epochs} epochs\")\n",
    "    # Move model to device\n",
    "    model.to(device)\n",
    "    # Lists to keep the losses and evaluation scores at the end of each epoch\n",
    "    train_loss, valid_loss = list(), list()\n",
    "    train_eval, valid_eval = list(), list()\n",
    "    for epoch in range(lo, hi):\n",
    "        # Dummy lists to keep the losses and evaluation scores at the end of each iteration\n",
    "        # (one batch forward and backward process)\n",
    "        train_batch_loss, valid_batch_loss = list(), list()\n",
    "        train_batch_eval, valid_batch_eval = list(), list()\n",
    "        # Training mode\n",
    "        model.train()\n",
    "        for i, (input, ground_truth) in enumerate(train_loader):\n",
    "            # Move input to device\n",
    "            input = input.to(device)\n",
    "            ground_truth = ground_truth.to(device)\n",
    "            # Forward pass\n",
    "            residual = model(input)\n",
    "            # Get prediction\n",
    "            output = input + residual\n",
    "            # Calculate loss\n",
    "            loss = criterion(torch.view_as_real(residual), torch.view_as_real(ground_truth - input))\n",
    "            # Reset gradients\n",
    "            optimizer.zero_grad()\n",
    "            # Backward pass (backpropogation)\n",
    "            loss.backward()\n",
    "            # Update weights\n",
    "            optimizer.step()\n",
    "            # Collect loss and evaluation scores\n",
    "            train_batch_loss.append(loss.item())\n",
    "            train_batch_eval.append(eval.compute_scores(\n",
    "                output.detach().cpu().numpy(),\n",
    "                ground_truth.detach().cpu().numpy()\n",
    "            ))\n",
    "            message = \\\n",
    "                f\"EPOCH:{epoch+1}/{hi}, \" + \\\n",
    "                f\"step:{i+1}/{len(train_loader)}, \" + \\\n",
    "                f\"loss={loss.item()}\"\n",
    "            print(\"\\r\", message, end=\"\")\n",
    "        # Take the average of iteration losses and evaluation scores\n",
    "        # and append to respective lists\n",
    "        train_loss.append(np.mean(train_batch_loss))\n",
    "        train_eval.append(np.mean(train_batch_eval, axis=0).tolist())\n",
    "        # Evaluation mode\n",
    "        model.eval()\n",
    "        with torch.no_grad():\n",
    "            for i, (input, ground_truth) in enumerate(valid_loader):\n",
    "                # Move input to device\n",
    "                input = input.to(device)\n",
    "                ground_truth = ground_truth.to(device)\n",
    "                # Forward pass\n",
    "                residual = model(input)\n",
    "                # Get prediction\n",
    "                output = input + residual\n",
    "                # Calculate loss\n",
    "                loss = criterion(torch.view_as_real(residual), torch.view_as_real(ground_truth - input))\n",
    "                valid_batch_loss.append(loss.item())\n",
    "                valid_batch_eval.append(eval.compute_scores(\n",
    "                    output.detach().cpu().numpy(),\n",
    "                    ground_truth.detach().cpu().numpy()\n",
    "                ))\n",
    "                message = \\\n",
    "                    f\"EPOCH:{epoch+1}/{hi}, \" + \\\n",
    "                    f\"step:{i+1}/{len(valid_loader)}, \" + \\\n",
    "                    f\"loss={loss.item()}\"\n",
    "                print(\"\\r\", message, end=\"\")\n",
    "        # Take the average of iteration losses and evaluation scores\n",
    "        # and append to respective lists\n",
    "        valid_loss.append(np.mean(valid_batch_loss))\n",
    "        valid_eval.append(np.mean(valid_batch_eval, axis=0).tolist())\n",
    "        # Adjust learning rate\n",
    "        scheduler.step(valid_loss[-1])\n",
    "        message = \\\n",
    "            f\"EPOCH:{epoch+1}/{hi} - \" + \\\n",
    "            f\"Training Loss: {train_loss[-1]}, \" + \\\n",
    "            f\"Validation Loss: {valid_loss[-1]}\"\n",
    "        print(\"\\r\", message)\n",
    "        # Save model\n",
    "        state = f\"epoch_{epoch+1:03}.pt\"\n",
    "        save_path = os.path.join(checkpoint_path, state)\n",
    "        torch.save({\n",
    "            \"epoch\": epoch+1,\n",
    "            \"model\": model.state_dict(),\n",
    "            \"optimizer\": optimizer.state_dict(),\n",
    "            \"scheduler\": scheduler.state_dict()\n",
    "        }, save_path)\n",
    "    # Save artefacts\n",
    "    new_artefacts = np.hstack([\n",
    "        np.array(range(lo + 1, hi + 1)).reshape(-1, 1),\n",
    "        np.array(train_loss).reshape(-1, 1),\n",
    "        np.array(valid_loss).reshape(-1, 1),\n",
    "        np.array(train_eval).reshape(-1, 4),\n",
    "        np.array(valid_eval).reshape(-1, 4)\n",
    "    ])\n",
    "    if append_artefacts_path is not None:\n",
    "        new_artefacts = np.vstack([artefacts, new_artefacts])\n",
    "    else:\n",
    "        append_artefacts_path = os.path.join(data.reports_path, ARTEFACTS)\n",
    "    np.save(append_artefacts_path, new_artefacts)\n",
    "    return"
   ]
  },
  {
   "cell_type": "markdown",
   "metadata": {},
   "source": [
    "#### Build data loaders, initialize model and set hyper-parameters"
   ]
  },
  {
   "cell_type": "markdown",
   "metadata": {},
   "source": [
    "Build data loaders for train and validation datasets"
   ]
  },
  {
   "cell_type": "code",
   "execution_count": 9,
   "metadata": {},
   "outputs": [
    {
     "name": "stderr",
     "output_type": "stream",
     "text": [
      "2023-01-05 03:44:21,404 - __main__ - INFO - Number of training samples: 7056\n",
      "2023-01-05 03:44:21,405 - __main__ - INFO - Number of validation samples: 756\n"
     ]
    }
   ],
   "source": [
    "BATCH_SIZE = 16\n",
    "NUM_WORKERS = max(0, multiprocessing.cpu_count() - 2)\n",
    "\n",
    "train_input_path = os.path.join(data.data_path, PROCESSED_DIR, TRAIN, INPUT)\n",
    "train_target_path = os.path.join(data.data_path, PROCESSED_DIR, TRAIN, TARGET)\n",
    "train_loader = make_data_loader(\n",
    "    input_path=train_input_path,\n",
    "    target_path=train_target_path,\n",
    "    batch_size=BATCH_SIZE,\n",
    "    shuffle=True,\n",
    "    num_workers=NUM_WORKERS\n",
    ")\n",
    "\n",
    "valid_input_path = os.path.join(data.data_path, PROCESSED_DIR, VAL, INPUT)\n",
    "valid_target_path = os.path.join(data.data_path, PROCESSED_DIR, VAL, TARGET)\n",
    "valid_loader = make_data_loader(\n",
    "    input_path=valid_input_path,\n",
    "    target_path=valid_target_path,\n",
    "    batch_size=BATCH_SIZE,\n",
    "    shuffle=False,\n",
    "    num_workers=NUM_WORKERS\n",
    ")\n",
    "\n",
    "logger.info(f\"Number of training samples: {len(train_loader.dataset)}\")\n",
    "logger.info(f\"Number of validation samples: {len(valid_loader.dataset)}\")"
   ]
  },
  {
   "cell_type": "markdown",
   "metadata": {},
   "source": [
    "Set the checkpoints path"
   ]
  },
  {
   "cell_type": "code",
   "execution_count": 10,
   "metadata": {},
   "outputs": [
    {
     "name": "stderr",
     "output_type": "stream",
     "text": [
      "2023-01-05 03:44:21,516 - __main__ - INFO - Trained models for each epoch will be saved to /home/vtyagi/repos/MRI-Denoising/checkpoints\n"
     ]
    }
   ],
   "source": [
    "checkpoint_path = Path(os.path.join(data.current_path, CHECKPOINTS_DIR))\n",
    "checkpoint_path.mkdir(parents=True, exist_ok=True)\n",
    "logger.info(f\"Trained models for each epoch will be saved to {checkpoint_path}\")"
   ]
  },
  {
   "cell_type": "markdown",
   "metadata": {},
   "source": [
    "Initialize UNet model and set criterion, optimizer and scheduler\n",
    "\n",
    "- Loss: Mean Squared Error (pixel-wise)\n",
    "- Optimizer: Adam\n",
    "- Scheduler: Reduce learning rate when validation loss has stopped improving"
   ]
  },
  {
   "cell_type": "code",
   "execution_count": 11,
   "metadata": {},
   "outputs": [],
   "source": [
    "LEARNING_RATE = 1e-03\n",
    "FACTOR = 0.1\n",
    "PATIENCE = 2\n",
    "VERBOSE = True\n",
    "\n",
    "model = Model(config)\n",
    "criterion = nn.MSELoss()\n",
    "optimizer = torch.optim.Adam(model.parameters(), lr=LEARNING_RATE)\n",
    "scheduler = torch.optim.lr_scheduler.ReduceLROnPlateau(\n",
    "    optimizer,\n",
    "    factor=FACTOR,\n",
    "    patience=PATIENCE,\n",
    "    verbose=VERBOSE\n",
    ")"
   ]
  },
  {
   "cell_type": "markdown",
   "metadata": {},
   "source": [
    "Number of trainable parameters"
   ]
  },
  {
   "cell_type": "code",
   "execution_count": 12,
   "metadata": {},
   "outputs": [
    {
     "name": "stderr",
     "output_type": "stream",
     "text": [
      "2023-01-05 03:44:21,819 - __main__ - INFO - Total trainable parameters: 1,925,988\n"
     ]
    }
   ],
   "source": [
    "pytorch_total_params = sum(p.numel() for p in model.parameters() if p.requires_grad)\n",
    "logger.info(f\"Total trainable parameters: {pytorch_total_params:,}\")"
   ]
  },
  {
   "cell_type": "markdown",
   "metadata": {},
   "source": [
    "#### Train model"
   ]
  },
  {
   "cell_type": "code",
   "execution_count": 13,
   "metadata": {},
   "outputs": [
    {
     "name": "stderr",
     "output_type": "stream",
     "text": [
      "2023-01-05 03:44:21,933 - __main__ - INFO - Training for 50 epochs\n"
     ]
    },
    {
     "name": "stdout",
     "output_type": "stream",
     "text": [
      " EPOCH:1/50 - Training Loss: 0.00024922958306296283, Validation Loss: 3.943301012535964e-06\n",
      " EPOCH:2/50 - Training Loss: 3.9642634032888906e-06, Validation Loss: 3.89470357238982e-06\n",
      " EPOCH:3/50 - Training Loss: 3.9140171287615474e-06, Validation Loss: 3.842177273819895e-06\n",
      " EPOCH:4/50 - Training Loss: 3.920526397809734e-06, Validation Loss: 3.776191042229963e-06\n",
      " EPOCH:5/50 - Training Loss: 4.106969812506132e-06, Validation Loss: 3.731442323129386e-06\n",
      " EPOCH:6/50 - Training Loss: 3.982648992845613e-06, Validation Loss: 3.5780686703882716e-06\n",
      " EPOCH:7/50 - Training Loss: 3.813970381373042e-06, Validation Loss: 3.700552946147203e-06\n",
      " EPOCH:8/50 - Training Loss: 3.846660742573623e-06, Validation Loss: 3.350804593793555e-06\n",
      " EPOCH:9/50 - Training Loss: 3.7387532296419677e-06, Validation Loss: 3.843799175247871e-06\n",
      " EPOCH:10/50 - Training Loss: 3.751256835967647e-06, Validation Loss: 3.090160177521284e-06\n",
      " EPOCH:11/50 - Training Loss: 3.544714097761594e-06, Validation Loss: 3.483736939813298e-06\n",
      " EPOCH:12/50 - Training Loss: 3.490169974570243e-06, Validation Loss: 3.1107731786050863e-06\n",
      " EPOCH:13/50, step:48/48, loss=8.118051482597366e-06Epoch 00013: reducing learning rate of group 0 to 1.0000e-04.\n",
      " EPOCH:13/50 - Training Loss: 3.5248736327365993e-06, Validation Loss: 3.2484080421113504e-06\n",
      " EPOCH:14/50 - Training Loss: 2.8747844570945473e-06, Validation Loss: 2.778151060311984e-06\n",
      " EPOCH:15/50 - Training Loss: 2.8539732601202064e-06, Validation Loss: 2.7659449652143544e-06\n",
      " EPOCH:16/50 - Training Loss: 2.840916943964998e-06, Validation Loss: 2.751852664554614e-06\n",
      " EPOCH:17/50 - Training Loss: 2.8268053577092097e-06, Validation Loss: 2.7366535348960497e-06\n",
      " EPOCH:18/50 - Training Loss: 2.8111311038486325e-06, Validation Loss: 2.719313228520074e-06\n",
      " EPOCH:19/50 - Training Loss: 2.793844285462205e-06, Validation Loss: 2.7003441568732947e-06\n",
      " EPOCH:20/50 - Training Loss: 2.774838757712487e-06, Validation Loss: 2.679448859529051e-06\n",
      " EPOCH:21/50 - Training Loss: 2.7541569386796128e-06, Validation Loss: 2.6570785737571137e-06\n",
      " EPOCH:22/50 - Training Loss: 2.732307591141017e-06, Validation Loss: 2.6358942039432045e-06\n",
      " EPOCH:23/50 - Training Loss: 2.709046994491401e-06, Validation Loss: 2.609648899939051e-06\n",
      " EPOCH:24/50 - Training Loss: 2.6886974354246027e-06, Validation Loss: 2.6370914684529603e-06\n",
      " EPOCH:25/50 - Training Loss: 2.6706574881410603e-06, Validation Loss: 2.559563020791226e-06\n",
      " EPOCH:26/50 - Training Loss: 2.6472368601240972e-06, Validation Loss: 2.5661313204731564e-06\n",
      " EPOCH:27/50 - Training Loss: 2.6290032662603025e-06, Validation Loss: 2.5548811670716987e-06\n",
      " EPOCH:28/50 - Training Loss: 2.6107985955138726e-06, Validation Loss: 2.507216236106539e-06\n",
      " EPOCH:29/50 - Training Loss: 2.5923758582028896e-06, Validation Loss: 2.484174620083953e-06\n",
      " EPOCH:30/50 - Training Loss: 2.5756337119092263e-06, Validation Loss: 2.4984233502796846e-06\n",
      " EPOCH:31/50 - Training Loss: 2.5608172868518533e-06, Validation Loss: 2.5074140263351787e-06\n",
      " EPOCH:32/50 - Training Loss: 2.5446492938907777e-06, Validation Loss: 2.4340628013893215e-06\n",
      " EPOCH:33/50 - Training Loss: 2.5322429694694748e-06, Validation Loss: 2.4256075607335483e-06\n",
      " EPOCH:34/50 - Training Loss: 2.5160732418173992e-06, Validation Loss: 2.4064054583069114e-06\n",
      " EPOCH:35/50 - Training Loss: 2.5020103333782384e-06, Validation Loss: 2.394223638901849e-06\n",
      " EPOCH:36/50 - Training Loss: 2.489004563009785e-06, Validation Loss: 2.4045546934322224e-06\n",
      " EPOCH:37/50 - Training Loss: 2.4744374470004968e-06, Validation Loss: 2.3657839503717546e-06\n",
      " EPOCH:38/50 - Training Loss: 2.4622540098781365e-06, Validation Loss: 2.3545918092319576e-06\n",
      " EPOCH:39/50 - Training Loss: 2.4494047710754218e-06, Validation Loss: 2.335811160492085e-06\n",
      " EPOCH:40/50 - Training Loss: 2.4374210299104885e-06, Validation Loss: 2.3246465647256778e-06\n",
      " EPOCH:41/50 - Training Loss: 2.4281819728385594e-06, Validation Loss: 2.3161199547890496e-06\n",
      " EPOCH:42/50 - Training Loss: 2.418454751188079e-06, Validation Loss: 2.305019817091155e-06\n",
      " EPOCH:43/50 - Training Loss: 2.407714492163783e-06, Validation Loss: 2.3325871498040365e-06\n",
      " EPOCH:44/50 - Training Loss: 2.4013833224407564e-06, Validation Loss: 2.293752055256467e-06\n",
      " EPOCH:45/50 - Training Loss: 2.3935047000724926e-06, Validation Loss: 2.2984923629583895e-06\n",
      " EPOCH:46/50 - Training Loss: 2.387370637546747e-06, Validation Loss: 2.2771404104560133e-06\n",
      " EPOCH:47/50 - Training Loss: 2.3820210495189604e-06, Validation Loss: 2.2658697022374477e-06\n",
      " EPOCH:48/50 - Training Loss: 2.375864158109055e-06, Validation Loss: 2.263909214169265e-06\n",
      " EPOCH:49/50 - Training Loss: 2.369463415134862e-06, Validation Loss: 2.278241675905216e-06\n",
      " EPOCH:50/50, step:47/48, loss=4.000490662292577e-06606"
     ]
    },
    {
     "name": "stderr",
     "output_type": "stream",
     "text": [
      "2023-01-05 14:11:37,196 - ctorch.utils.utils - INFO - func:train took: 10 hr and 27 min\n"
     ]
    },
    {
     "name": "stdout",
     "output_type": "stream",
     "text": [
      " EPOCH:50/50 - Training Loss: 2.366459336862756e-06, Validation Loss: 2.2880631291855025e-06\n"
     ]
    }
   ],
   "source": [
    "EPOCHS = 50\n",
    "train(\n",
    "    model=model,\n",
    "    train_loader=train_loader,\n",
    "    valid_loader=valid_loader,\n",
    "    epochs=EPOCHS,\n",
    "    criterion=criterion,\n",
    "    optimizer=optimizer,\n",
    "    scheduler=scheduler,\n",
    "    checkpoint_path=checkpoint_path\n",
    ")"
   ]
  },
  {
   "cell_type": "markdown",
   "metadata": {},
   "source": [
    "##### Check if we need to continue training"
   ]
  },
  {
   "cell_type": "code",
   "execution_count": 14,
   "metadata": {},
   "outputs": [
    {
     "data": {
      "image/png": "[encoded data removed]",
      "text/plain": [
       "<Figure size 600x400 with 1 Axes>"
      ]
     },
     "metadata": {},
     "output_type": "display_data"
    }
   ],
   "source": [
    "artefacts = np.load(os.path.join(data.reports_path, ARTEFACTS))\n",
    "\n",
    "fig, ax = plt.subplots(1, 1, figsize=(6, 4), constrained_layout=True)\n",
    "sns.lineplot(\n",
    "    x=artefacts[:, EPOCH].reshape(-1,),\n",
    "    y=artefacts[:, TRAIN_LOSS].reshape(-1,),\n",
    "    ax=ax,\n",
    "    label=\"Train Loss\"\n",
    ")\n",
    "sns.lineplot(\n",
    "    x=artefacts[:, EPOCH].reshape(-1,),\n",
    "    y=artefacts[:, VALID_LOSS].reshape(-1,),\n",
    "    ax=ax, label=\"Validation Loss\"\n",
    ")\n",
    "plt.axvline(x=np.argmin(artefacts[:, VALID_LOSS]) + 1, linestyle=\"dashed\", label=\"Best Epoch\\n(Minimum Validation Loss)\")\n",
    "ax.set_ylim(0, 1e-05)\n",
    "ax.set_xlabel(\"Epoch\")\n",
    "ax.set_ylabel(\"MSE Loss\")\n",
    "plt.legend(loc=\"upper center\");"
   ]
  },
  {
   "cell_type": "markdown",
   "metadata": {},
   "source": [
    "As the validation loss is still decreasing, we should continue training"
   ]
  },
  {
   "cell_type": "markdown",
   "metadata": {},
   "source": [
    "##### Resume training"
   ]
  },
  {
   "cell_type": "markdown",
   "metadata": {},
   "source": [
    "Load model, optimizer and scheduler at last epoch"
   ]
  },
  {
   "cell_type": "code",
   "execution_count": 15,
   "metadata": {},
   "outputs": [],
   "source": [
    "latest_epoch = np.max(artefacts[:, EPOCH]).astype(int)\n",
    "state = f\"epoch_{latest_epoch:03}.pt\"\n",
    "checkpoint = torch.load(os.path.join(checkpoint_path, state), map_location=\"cpu\")\n",
    "model.load_state_dict(checkpoint[\"model\"])\n",
    "optimizer.load_state_dict(checkpoint[\"optimizer\"])\n",
    "scheduler.load_state_dict(checkpoint[\"scheduler\"])"
   ]
  },
  {
   "cell_type": "markdown",
   "metadata": {},
   "source": [
    "Continue training"
   ]
  },
  {
   "cell_type": "code",
   "execution_count": 16,
   "metadata": {},
   "outputs": [
    {
     "name": "stderr",
     "output_type": "stream",
     "text": [
      "2023-01-05 14:13:40,206 - __main__ - INFO - Resuming training for 50 epochs\n"
     ]
    },
    {
     "name": "stdout",
     "output_type": "stream",
     "text": [
      " EPOCH:51/100 - Training Loss: 2.361621637098165e-06, Validation Loss: 2.2522349389930696e-06\n",
      " EPOCH:52/100 - Training Loss: 2.359246743290729e-06, Validation Loss: 2.3023242595362112e-06\n",
      " EPOCH:53/100 - Training Loss: 2.35167939806208e-06, Validation Loss: 2.248826746154009e-06\n",
      " EPOCH:54/100 - Training Loss: 2.3503610656417775e-06, Validation Loss: 2.269617078572613e-06\n",
      " EPOCH:55/100 - Training Loss: 2.3463281292220892e-06, Validation Loss: 2.23826102422701e-06\n",
      " EPOCH:56/100 - Training Loss: 2.3427680973075763e-06, Validation Loss: 2.2331470361791617e-06\n",
      " EPOCH:57/100 - Training Loss: 2.3401955760760145e-06, Validation Loss: 2.2324635722270614e-06\n",
      " EPOCH:58/100 - Training Loss: 2.3380550960207822e-06, Validation Loss: 2.2299803627371753e-06\n",
      " EPOCH:59/100 - Training Loss: 2.3346102162410104e-06, Validation Loss: 2.2248303371460074e-06\n",
      " EPOCH:60/100 - Training Loss: 2.3333836040928007e-06, Validation Loss: 2.245511855865819e-06\n",
      " EPOCH:61/100 - Training Loss: 2.329374087161683e-06, Validation Loss: 2.225188110808555e-06\n",
      " EPOCH:62/100 - Training Loss: 2.327200885405063e-06, Validation Loss: 2.219708386282567e-06\n",
      " EPOCH:63/100 - Training Loss: 2.3251227709586026e-06, Validation Loss: 2.21692745228097e-06\n",
      " EPOCH:64/100 - Training Loss: 2.322906424918171e-06, Validation Loss: 2.2464784687296437e-06\n",
      " EPOCH:65/100 - Training Loss: 2.321240472434622e-06, Validation Loss: 2.212474718987778e-06\n",
      " EPOCH:66/100 - Training Loss: 2.3193980516840143e-06, Validation Loss: 2.217966038386976e-06\n",
      " EPOCH:67/100 - Training Loss: 2.315969646441774e-06, Validation Loss: 2.2604383135652975e-06\n",
      " EPOCH:68/100 - Training Loss: 2.3143293918238298e-06, Validation Loss: 2.2099650784923597e-06\n",
      " EPOCH:69/100 - Training Loss: 2.3134719283137073e-06, Validation Loss: 2.215709927829342e-06\n",
      " EPOCH:70/100 - Training Loss: 2.3124042696991285e-06, Validation Loss: 2.2042600017850114e-06\n",
      " EPOCH:71/100 - Training Loss: 2.309788724831011e-06, Validation Loss: 2.1999247780494593e-06\n",
      " EPOCH:72/100 - Training Loss: 2.3078267730689605e-06, Validation Loss: 2.1959283339848903e-06\n",
      " EPOCH:73/100 - Training Loss: 2.3052620622004885e-06, Validation Loss: 2.1983382178329216e-06\n",
      " EPOCH:74/100 - Training Loss: 2.305497388540913e-06, Validation Loss: 2.195468622308757e-06\n",
      " EPOCH:75/100 - Training Loss: 2.3026722316967453e-06, Validation Loss: 2.1919731902168373e-06\n",
      " EPOCH:76/100 - Training Loss: 2.302080652569413e-06, Validation Loss: 2.232318747038183e-06\n",
      " EPOCH:77/100 - Training Loss: 2.3000160225161966e-06, Validation Loss: 2.1933984690747366e-06\n",
      " EPOCH:78/100, step:48/48, loss=5.000818873668322e-06Epoch 00078: reducing learning rate of group 0 to 1.0000e-05.\n",
      " EPOCH:78/100 - Training Loss: 2.3002162178192124e-06, Validation Loss: 2.194888667853926e-06\n",
      " EPOCH:79/100 - Training Loss: 2.2856488703115563e-06, Validation Loss: 2.1857393726065766e-06\n",
      " EPOCH:80/100 - Training Loss: 2.285340941391099e-06, Validation Loss: 2.1852874840059635e-06\n",
      " EPOCH:81/100 - Training Loss: 2.2851343693134395e-06, Validation Loss: 2.1848433947961135e-06\n",
      " EPOCH:82/100 - Training Loss: 2.2849242064331437e-06, Validation Loss: 2.184620139900062e-06\n",
      " EPOCH:83/100 - Training Loss: 2.284767005120456e-06, Validation Loss: 2.184580906098669e-06\n",
      " EPOCH:84/100 - Training Loss: 2.2845389039523684e-06, Validation Loss: 2.184153995443694e-06\n",
      " EPOCH:85/100 - Training Loss: 2.284185551082099e-06, Validation Loss: 2.1844225237543924e-06\n",
      " EPOCH:86/100 - Training Loss: 2.2838974887431885e-06, Validation Loss: 2.184049383420946e-06\n",
      " EPOCH:87/100 - Training Loss: 2.2836287085684527e-06, Validation Loss: 2.1832190550223154e-06\n",
      " EPOCH:88/100 - Training Loss: 2.2833332800442793e-06, Validation Loss: 2.1832738141824848e-06\n",
      " EPOCH:89/100 - Training Loss: 2.28299190115641e-06, Validation Loss: 2.182955438930397e-06\n",
      " EPOCH:90/100 - Training Loss: 2.2825879849694428e-06, Validation Loss: 2.182463999152636e-06\n",
      " EPOCH:91/100 - Training Loss: 2.2821289435558444e-06, Validation Loss: 2.181957642714375e-06\n",
      " EPOCH:92/100 - Training Loss: 2.2819048619006225e-06, Validation Loss: 2.1813667589280308e-06\n",
      " EPOCH:93/100 - Training Loss: 2.281477745349375e-06, Validation Loss: 2.1807464882783734e-06\n",
      " EPOCH:94/100 - Training Loss: 2.281121573767351e-06, Validation Loss: 2.1814906207377285e-06\n",
      " EPOCH:95/100 - Training Loss: 2.28065256297192e-06, Validation Loss: 2.180877849866647e-06\n",
      " EPOCH:96/100 - Training Loss: 2.2803152585068858e-06, Validation Loss: 2.18026270459859e-06\n",
      " EPOCH:97/100 - Training Loss: 2.2801887964652407e-06, Validation Loss: 2.180069904748431e-06\n",
      " EPOCH:98/100 - Training Loss: 2.279637408857459e-06, Validation Loss: 2.179070500337351e-06\n",
      " EPOCH:99/100 - Training Loss: 2.2792031854609906e-06, Validation Loss: 2.1787034825138107e-06\n",
      " EPOCH:100/100, step:47/48, loss=3.800500735451351e-06606"
     ]
    },
    {
     "name": "stderr",
     "output_type": "stream",
     "text": [
      "2023-01-06 00:38:54,565 - ctorch.utils.utils - INFO - func:train took: 10 hr and 25 min\n"
     ]
    },
    {
     "name": "stdout",
     "output_type": "stream",
     "text": [
      " EPOCH:100/100 - Training Loss: 2.279025566146924e-06, Validation Loss: 2.1785962651676982e-06\n"
     ]
    }
   ],
   "source": [
    "EPOCHS = 50\n",
    "train(\n",
    "    model=model,\n",
    "    train_loader=train_loader,\n",
    "    valid_loader=valid_loader,\n",
    "    epochs=EPOCHS,\n",
    "    criterion=criterion,\n",
    "    optimizer=optimizer,\n",
    "    scheduler=scheduler,\n",
    "    checkpoint_path=checkpoint_path,\n",
    "    append_artefacts_path=os.path.join(data.reports_path, ARTEFACTS)\n",
    ")"
   ]
  },
  {
   "cell_type": "markdown",
   "metadata": {},
   "source": [
    "##### Check if we need to continue training"
   ]
  },
  {
   "cell_type": "code",
   "execution_count": 17,
   "metadata": {},
   "outputs": [
    {
     "data": {
      "image/png": "[encoded data removed]",
      "text/plain": [
       "<Figure size 600x400 with 1 Axes>"
      ]
     },
     "metadata": {},
     "output_type": "display_data"
    }
   ],
   "source": [
    "artefacts = np.load(os.path.join(data.reports_path, ARTEFACTS))\n",
    "\n",
    "fig, ax = plt.subplots(1, 1, figsize=(6, 4), constrained_layout=True)\n",
    "sns.lineplot(\n",
    "    x=artefacts[:, EPOCH].reshape(-1,),\n",
    "    y=artefacts[:, TRAIN_LOSS].reshape(-1,),\n",
    "    ax=ax,\n",
    "    label=\"Train Loss\"\n",
    ")\n",
    "sns.lineplot(\n",
    "    x=artefacts[:, EPOCH].reshape(-1,),\n",
    "    y=artefacts[:, VALID_LOSS].reshape(-1,),\n",
    "    ax=ax, label=\"Validation Loss\"\n",
    ")\n",
    "plt.axvline(x=np.argmin(artefacts[:, VALID_LOSS]) + 1, linestyle=\"dashed\", label=\"Best Epoch\\n(Minimum Validation Loss)\")\n",
    "ax.set_ylim(0, 1e-05)\n",
    "ax.set_xlabel(\"Epoch\")\n",
    "ax.set_ylabel(\"MSE Loss\")\n",
    "plt.legend(loc=\"upper center\");"
   ]
  },
  {
   "cell_type": "markdown",
   "metadata": {},
   "source": [
    "Again, the validation loss is still decreasing and we'll resume training."
   ]
  },
  {
   "cell_type": "markdown",
   "metadata": {},
   "source": [
    "##### Resume training"
   ]
  },
  {
   "cell_type": "markdown",
   "metadata": {},
   "source": [
    "Load model, optimizer and scheduler at last epoch"
   ]
  },
  {
   "cell_type": "code",
   "execution_count": 18,
   "metadata": {},
   "outputs": [],
   "source": [
    "latest_epoch = np.max(artefacts[:, EPOCH]).astype(int)\n",
    "state = f\"epoch_{latest_epoch:03}.pt\"\n",
    "checkpoint = torch.load(os.path.join(checkpoint_path, state), map_location=\"cpu\")\n",
    "model.load_state_dict(checkpoint[\"model\"])\n",
    "optimizer.load_state_dict(checkpoint[\"optimizer\"])\n",
    "scheduler.load_state_dict(checkpoint[\"scheduler\"])"
   ]
  },
  {
   "cell_type": "markdown",
   "metadata": {},
   "source": [
    "Continue training"
   ]
  },
  {
   "cell_type": "code",
   "execution_count": 19,
   "metadata": {},
   "outputs": [
    {
     "name": "stderr",
     "output_type": "stream",
     "text": [
      "2023-01-06 00:41:41,056 - __main__ - INFO - Resuming training for 50 epochs\n"
     ]
    },
    {
     "name": "stdout",
     "output_type": "stream",
     "text": [
      " EPOCH:101/150 - Training Loss: 2.278681433511208e-06, Validation Loss: 2.1785510249117124e-06\n",
      " EPOCH:102/150 - Training Loss: 2.2783544157715377e-06, Validation Loss: 2.178221753486772e-06\n",
      " EPOCH:103/150 - Training Loss: 2.2779166977293273e-06, Validation Loss: 2.1786122547477285e-06\n",
      " EPOCH:104/150 - Training Loss: 2.277646514385753e-06, Validation Loss: 2.1773966771831965e-06\n",
      " EPOCH:105/150 - Training Loss: 2.2773541208618984e-06, Validation Loss: 2.177345237441841e-06\n",
      " EPOCH:106/150 - Training Loss: 2.2769871913083892e-06, Validation Loss: 2.176559538232444e-06\n",
      " EPOCH:107/150 - Training Loss: 2.2766720516520185e-06, Validation Loss: 2.1769635919118477e-06\n",
      " EPOCH:108/150 - Training Loss: 2.276361968095303e-06, Validation Loss: 2.1762349232308984e-06\n",
      " EPOCH:109/150 - Training Loss: 2.2761367774133788e-06, Validation Loss: 2.175709089632013e-06\n",
      " EPOCH:110/150 - Training Loss: 2.2757183237476067e-06, Validation Loss: 2.1752457458982613e-06\n",
      " EPOCH:111/150 - Training Loss: 2.2755086754227036e-06, Validation Loss: 2.1753505687153543e-06\n",
      " EPOCH:112/150 - Training Loss: 2.275161574812922e-06, Validation Loss: 2.175394207881709e-06\n",
      " EPOCH:113/150, step:48/48, loss=4.9325835789204575e-06Epoch 00113: reducing learning rate of group 0 to 1.0000e-06.\n",
      " EPOCH:113/150 - Training Loss: 2.2748716470818172e-06, Validation Loss: 2.175433287732176e-06\n",
      " EPOCH:114/150 - Training Loss: 2.274248456568766e-06, Validation Loss: 2.1748896870121825e-06\n",
      " EPOCH:115/150 - Training Loss: 2.2741738022119956e-06, Validation Loss: 2.174788959289723e-06\n",
      " EPOCH:116/150 - Training Loss: 2.274138111247576e-06, Validation Loss: 2.174703518894224e-06\n",
      " EPOCH:117/150 - Training Loss: 2.2740732576758317e-06, Validation Loss: 2.1746214737087635e-06\n",
      " EPOCH:118/150 - Training Loss: 2.2740434812627003e-06, Validation Loss: 2.174498200465299e-06\n",
      " EPOCH:119/150 - Training Loss: 2.2740094925073273e-06, Validation Loss: 2.1744366070682495e-06\n",
      " EPOCH:120/150 - Training Loss: 2.273959783001982e-06, Validation Loss: 2.1743896378249397e-06\n",
      " EPOCH:121/150 - Training Loss: 2.2739293713862016e-06, Validation Loss: 2.1743099054560844e-06\n",
      " EPOCH:122/150 - Training Loss: 2.2738991935889288e-06, Validation Loss: 2.1741809608973503e-06\n",
      " EPOCH:123/150 - Training Loss: 2.2738314774805716e-06, Validation Loss: 2.17415651822724e-06\n",
      " EPOCH:124/150 - Training Loss: 2.27379489661374e-06, Validation Loss: 2.17407842958058e-06\n",
      " EPOCH:125/150 - Training Loss: 2.273740830144122e-06, Validation Loss: 2.1740938803323693e-06\n",
      " EPOCH:126/150, step:48/48, loss=4.941913175571244e-06Epoch 00126: reducing learning rate of group 0 to 1.0000e-07.\n",
      " EPOCH:126/150 - Training Loss: 2.2737022075544906e-06, Validation Loss: 2.174026388246375e-06\n",
      " EPOCH:127/150 - Training Loss: 2.273607442228141e-06, Validation Loss: 2.1739814795769994e-06\n",
      " EPOCH:128/150 - Training Loss: 2.273603552900883e-06, Validation Loss: 2.1739777740966324e-06\n",
      " EPOCH:129/150, step:48/48, loss=4.941752649756381e-06Epoch 00129: reducing learning rate of group 0 to 1.0000e-08.\n",
      " EPOCH:129/150 - Training Loss: 2.273596941534352e-06, Validation Loss: 2.1739660252724966e-06\n",
      " EPOCH:130/150 - Training Loss: 2.273586050799326e-06, Validation Loss: 2.1739638557486765e-06\n",
      " EPOCH:131/150 - Training Loss: 2.2735856893731436e-06, Validation Loss: 2.1739655894729517e-06\n",
      " EPOCH:132/150 - Training Loss: 2.2735851224857147e-06, Validation Loss: 2.1739648066917048e-06\n",
      " EPOCH:133/150 - Training Loss: 2.2735847301243385e-06, Validation Loss: 2.1739662029081805e-06\n",
      " EPOCH:134/150 - Training Loss: 2.2735844122652208e-06, Validation Loss: 2.1739671076659306e-06\n",
      " EPOCH:135/150 - Training Loss: 2.2735843694715357e-06, Validation Loss: 2.173966497783416e-06\n",
      " EPOCH:136/150 - Training Loss: 2.273583523909568e-06, Validation Loss: 2.173967890447178e-06\n",
      " EPOCH:137/150 - Training Loss: 2.2735833813498825e-06, Validation Loss: 2.1739670010845202e-06\n",
      " EPOCH:138/150 - Training Loss: 2.2735829941443718e-06, Validation Loss: 2.1739675257019067e-06\n",
      " EPOCH:139/150 - Training Loss: 2.273582304031754e-06, Validation Loss: 2.173968873364629e-06\n",
      " EPOCH:140/150 - Training Loss: 2.273582057323582e-06, Validation Loss: 2.1739686199377197e-06\n",
      " EPOCH:141/150 - Training Loss: 2.2735815873664277e-06, Validation Loss: 2.1739680799252406e-06\n",
      " EPOCH:142/150 - Training Loss: 2.273581535034391e-06, Validation Loss: 2.1739699640477284e-06\n",
      " EPOCH:143/150 - Training Loss: 2.2735809699515153e-06, Validation Loss: 2.1739677838657676e-06\n",
      " EPOCH:144/150 - Training Loss: 2.2735805345386605e-06, Validation Loss: 2.1739685216459748e-06\n",
      " EPOCH:145/150 - Training Loss: 2.2735806144545783e-06, Validation Loss: 2.1739683795374276e-06\n",
      " EPOCH:146/150 - Training Loss: 2.2735796149900207e-06, Validation Loss: 2.173969890624979e-06\n",
      " EPOCH:147/150 - Training Loss: 2.2735794631497773e-06, Validation Loss: 2.1739699190466886e-06\n",
      " EPOCH:148/150 - Training Loss: 2.2735791579225305e-06, Validation Loss: 2.173968905339052e-06\n",
      " EPOCH:149/150 - Training Loss: 2.273578519626362e-06, Validation Loss: 2.1739710452569247e-06\n",
      " EPOCH:150/150, step:47/48, loss=3.7837735362700187e-0606"
     ]
    },
    {
     "name": "stderr",
     "output_type": "stream",
     "text": [
      "2023-01-06 11:12:29,598 - ctorch.utils.utils - INFO - func:train took: 10 hr and 30 min\n"
     ]
    },
    {
     "name": "stdout",
     "output_type": "stream",
     "text": [
      " EPOCH:150/150 - Training Loss: 2.273578200736071e-06, Validation Loss: 2.173971735667616e-06\n"
     ]
    }
   ],
   "source": [
    "EPOCHS = 50\n",
    "train(\n",
    "    model=model,\n",
    "    train_loader=train_loader,\n",
    "    valid_loader=valid_loader,\n",
    "    epochs=EPOCHS,\n",
    "    criterion=criterion,\n",
    "    optimizer=optimizer,\n",
    "    scheduler=scheduler,\n",
    "    checkpoint_path=checkpoint_path,\n",
    "    append_artefacts_path=os.path.join(data.reports_path, ARTEFACTS)\n",
    ")"
   ]
  },
  {
   "cell_type": "markdown",
   "metadata": {},
   "source": [
    "##### Check if we need to continue training"
   ]
  },
  {
   "cell_type": "code",
   "execution_count": 20,
   "metadata": {},
   "outputs": [
    {
     "data": {
      "image/png": "[encoded data removed]",
      "text/plain": [
       "<Figure size 600x400 with 1 Axes>"
      ]
     },
     "metadata": {},
     "output_type": "display_data"
    }
   ],
   "source": [
    "artefacts = np.load(os.path.join(data.reports_path, ARTEFACTS))\n",
    "\n",
    "fig, ax = plt.subplots(1, 1, figsize=(6, 4), constrained_layout=True)\n",
    "sns.lineplot(\n",
    "    x=artefacts[:, EPOCH].reshape(-1,),\n",
    "    y=artefacts[:, TRAIN_LOSS].reshape(-1,),\n",
    "    ax=ax,\n",
    "    label=\"Train Loss\"\n",
    ")\n",
    "sns.lineplot(\n",
    "    x=artefacts[:, EPOCH].reshape(-1,),\n",
    "    y=artefacts[:, VALID_LOSS].reshape(-1,),\n",
    "    ax=ax, label=\"Validation Loss\"\n",
    ")\n",
    "plt.axvline(x=np.argmin(artefacts[:, VALID_LOSS]) + 1, linestyle=\"dashed\", label=\"Best Epoch\\n(Minimum Validation Loss)\")\n",
    "ax.set_ylim(0, 1e-05)\n",
    "ax.set_xlabel(\"Epoch\")\n",
    "ax.set_ylabel(\"MSE Loss\")\n",
    "plt.legend(loc=\"upper center\");"
   ]
  },
  {
   "cell_type": "markdown",
   "metadata": {},
   "source": [
    "#### Save the best model for inference"
   ]
  },
  {
   "cell_type": "code",
   "execution_count": 22,
   "metadata": {},
   "outputs": [
    {
     "name": "stderr",
     "output_type": "stream",
     "text": [
      "2023-01-06 13:29:01,329 - __main__ - INFO - Best epoch: 130\n"
     ]
    }
   ],
   "source": [
    "best_epoch = np.argmin(artefacts[:, VALID_LOSS]) + 1\n",
    "logger.info(f\"Best epoch: {best_epoch}\")"
   ]
  },
  {
   "cell_type": "code",
   "execution_count": 26,
   "metadata": {},
   "outputs": [
    {
     "name": "stderr",
     "output_type": "stream",
     "text": [
      "2023-01-06 13:32:52,403 - __main__ - INFO - Saved best model to /home/vtyagi/repos/MRI-Denoising/checkpoints/best_model.pt\n"
     ]
    }
   ],
   "source": [
    "state = f\"epoch_{best_epoch:03}.pt\"\n",
    "checkpoint = torch.load(os.path.join(checkpoint_path, state), map_location=\"cpu\")\n",
    "model.load_state_dict(checkpoint[\"model\"])\n",
    "\n",
    "save_path = os.path.join(checkpoint_path, BEST_MODEL)\n",
    "torch.save({\n",
    "    \"epoch\": best_epoch,\n",
    "    \"model\": model.state_dict()\n",
    "}, save_path)\n",
    "logger.info(f\"Saved best model to {save_path}\")"
   ]
  }
 ],
 "metadata": {
  "kernelspec": {
   "display_name": "Python 3 (ipykernel)",
   "language": "python",
   "name": "python3"
  },
  "language_info": {
   "codemirror_mode": {
    "name": "ipython",
    "version": 3
   },
   "file_extension": ".py",
   "mimetype": "text/x-python",
   "name": "python",
   "nbconvert_exporter": "python",
   "pygments_lexer": "ipython3",
   "version": "3.9.13"
  },
  "orig_nbformat": 4
 },
 "nbformat": 4,
 "nbformat_minor": 2
}
